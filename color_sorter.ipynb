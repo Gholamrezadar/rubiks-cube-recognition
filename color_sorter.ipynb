{
 "cells": [
  {
   "cell_type": "code",
   "execution_count": 1,
   "metadata": {},
   "outputs": [],
   "source": [
    "import numpy as np\n",
    "import pandas as pd\n",
    "\n",
    "import matplotlib.pyplot as plt\n",
    "import seaborn as sns; sns.set(); sns.set_style('dark')\n",
    "\n",
    "import os\n",
    "import datetime\n",
    "\n",
    "import cv2"
   ]
  },
  {
   "cell_type": "code",
   "execution_count": 2,
   "metadata": {},
   "outputs": [],
   "source": [
    "def rgb(img):\n",
    "    return cv2.cvtColor(img, cv2.COLOR_BGR2RGB)\n",
    "\n",
    "def bgr(img):\n",
    "    return cv2.cvtColor(img, cv2.COLOR_RGB2BGR)\n",
    "\n",
    "def gray(img):\n",
    "    return cv2.cvtColor(img, cv2.COLOR_RGB2GRAY)\n",
    "\n",
    "def disp(img, title='', s=8, vmin=None, vmax=None):\n",
    "    plt.figure(figsize=(s,s))\n",
    "    plt.axis('off')\n",
    "    if vmin is not None and vmax is not None:\n",
    "        plt.imshow(img, cmap='gray', vmin=vmin, vmax=vmax)\n",
    "    else:\n",
    "        plt.imshow(img, cmap='gray')\n",
    "    plt.title(title)\n",
    "    plt.show()\n",
    "\n",
    "def uint8ify(img):\n",
    "    img -= img.min()\n",
    "    img /= img.max()\n",
    "    img *= 255\n",
    "    return np.uint8(img)\n",
    "\n",
    "def overlay(a,b):\n",
    "    # a and b should be float images and between 0-1\n",
    "\n",
    "    mask = a >= 0.5 # generate boolean mask of everywhere a > 0.5 \n",
    "    ab = np.zeros_like(a) # generate an output container for the blended image \n",
    "\n",
    "    # now do the blending \n",
    "    ab[~mask] = (2*a*b)[~mask] # 2ab everywhere a<0.5\n",
    "    ab[mask] = (1-2*(1-a)*(1-b))[mask] # else this\n",
    "    \n",
    "    return ab\n",
    "\n",
    "def before_after(img_a, img_b, name='', vmin=None, vmax=None, effect_name='Processed'):\n",
    "    fig, axs = plt.subplots(1,2, constrained_layout=True, figsize=(10,4))\n",
    "    axs[0].axis('off')\n",
    "    axs[1].axis('off')\n",
    "    axs[0].set_title(f'{name} Original')\n",
    "    axs[1].set_title(f'{name} {effect_name}')\n",
    "    if vmin is not None and vmax is not None:\n",
    "        axs[0].imshow(img_a, cmap='gray', vmin=vmin, vmax=vmax)\n",
    "        axs[1].imshow(img_b, cmap='gray', vmin=vmin, vmax=vmax)\n",
    "    else:\n",
    "        axs[0].imshow(img_a, cmap='gray')\n",
    "        axs[1].imshow(img_b, cmap='gray')\n",
    "    plt.show()"
   ]
  },
  {
   "cell_type": "code",
   "execution_count": 13,
   "metadata": {},
   "outputs": [],
   "source": [
    "colors_rgb = np.array([\n",
    "    [255, 0, 0], #rgb(255, 0, 0)\n",
    "    [188, 25, 10], #rgb(188, 25, 10)\n",
    "    [130, 25, 25], #rgb(130, 25, 25)\n",
    "\n",
    "    [255, 90, 0], #rgb(255, 90, 0)\n",
    "    [188, 65, 45], #rgb(188, 65, 45)\n",
    "    [176, 90, 45], #rgb(176, 90, 45)\n",
    "\n",
    "    [255, 150, 0], #rgb(255, 150, 0)\n",
    "    [200, 150, 25], #rgb(200, 150, 25)\n",
    "    [220, 200, 45], #rgb(220, 200, 45)\n",
    "\n",
    "    [89, 150, 0], #rgb(89, 150, 0)\n",
    "    [45, 150, 25], #rgb(45, 150, 25)\n",
    "    [0, 200, 45], #rgb(0, 200, 45)\n",
    "\n",
    "    [34, 34, 200], #rgb(34, 34, 200)\n",
    "    [0, 90, 225], #rgb(0, 90, 225)\n",
    "    [0, 46, 205], #rgb(0, 46, 205)\n",
    "\n",
    "    [150, 150, 150], #rgb(150, 150, 150)\n",
    "    [255, 255, 255], #rgb(255, 255, 255)\n",
    "    [90, 90, 90], #rgb(90, 90, 90)\n",
    "    ], dtype=np.float32)/255.0"
   ]
  },
  {
   "cell_type": "code",
   "execution_count": 14,
   "metadata": {},
   "outputs": [],
   "source": [
    "np.random.shuffle(colors_rgb)"
   ]
  },
  {
   "cell_type": "code",
   "execution_count": 5,
   "metadata": {},
   "outputs": [
    {
     "data": {
      "text/plain": [
       "(18, 3)"
      ]
     },
     "execution_count": 5,
     "metadata": {},
     "output_type": "execute_result"
    }
   ],
   "source": [
    "colors_rgb.shape"
   ]
  },
  {
   "cell_type": "code",
   "execution_count": 15,
   "metadata": {},
   "outputs": [
    {
     "data": {
      "image/png": "[encoded data removed]",
      "text/plain": [
       "<Figure size 576x576 with 1 Axes>"
      ]
     },
     "metadata": {},
     "output_type": "display_data"
    }
   ],
   "source": [
    "disp(colors_rgb[:, np.newaxis, :])"
   ]
  },
  {
   "cell_type": "code",
   "execution_count": 16,
   "metadata": {},
   "outputs": [],
   "source": [
    "import matplotlib\n",
    "colors_hsv = matplotlib.colors.rgb_to_hsv(colors_rgb)"
   ]
  },
  {
   "cell_type": "code",
   "execution_count": 19,
   "metadata": {},
   "outputs": [
    {
     "data": {
      "image/png": "[encoded data removed]",
      "text/plain": [
       "<Figure size 576x576 with 1 Axes>"
      ]
     },
     "metadata": {},
     "output_type": "display_data"
    }
   ],
   "source": [
    "disp(colors_hsv[:, np.newaxis, :])"
   ]
  },
  {
   "cell_type": "code",
   "execution_count": 37,
   "metadata": {},
   "outputs": [],
   "source": [
    "# sort by saturation\n",
    "sorted_colors_hsv = sorted(colors_hsv, key=lambda x:x[1])\n",
    "\n",
    "# sort by hue\n",
    "sorted_colors_hsv = sorted(sorted_colors_hsv, key=lambda x:x[0])\n",
    "hues = [x[0] for x in sorted_colors_hsv]\n",
    "\n",
    "sorted_colors_rgb = matplotlib.colors.hsv_to_rgb(sorted_colors_hsv)\n"
   ]
  },
  {
   "cell_type": "code",
   "execution_count": 36,
   "metadata": {},
   "outputs": [
    {
     "data": {
      "image/png": "[encoded data removed]",
      "text/plain": [
       "<Figure size 576x576 with 1 Axes>"
      ]
     },
     "metadata": {},
     "output_type": "display_data"
    }
   ],
   "source": [
    "disp(sorted_colors_rgb[:, np.newaxis, :])"
   ]
  },
  {
   "cell_type": "code",
   "execution_count": 42,
   "metadata": {},
   "outputs": [
    {
     "data": {
      "text/plain": [
       "<BarContainer object of 18 artists>"
      ]
     },
     "execution_count": 42,
     "metadata": {},
     "output_type": "execute_result"
    },
    {
     "data": {
      "image/png": "[encoded data removed]",
      "text/plain": [
       "<Figure size 432x288 with 1 Axes>"
      ]
     },
     "metadata": {},
     "output_type": "display_data"
    }
   ],
   "source": [
    "plt.bar(np.arange(len(hues)), hues)"
   ]
  },
  {
   "cell_type": "code",
   "execution_count": null,
   "metadata": {},
   "outputs": [],
   "source": []
  }
 ],
 "metadata": {
  "kernelspec": {
   "display_name": "Python 3.9.1 64-bit",
   "language": "python",
   "name": "python3"
  },
  "language_info": {
   "codemirror_mode": {
    "name": "ipython",
    "version": 3
   },
   "file_extension": ".py",
   "mimetype": "text/x-python",
   "name": "python",
   "nbconvert_exporter": "python",
   "pygments_lexer": "ipython3",
   "version": "3.9.1"
  },
  "orig_nbformat": 4,
  "vscode": {
   "interpreter": {
    "hash": "81794d4967e6c3204c66dcd87b604927b115b27c00565d3d43f05ba2f3a2cb0d"
   }
  }
 },
 "nbformat": 4,
 "nbformat_minor": 2
}
